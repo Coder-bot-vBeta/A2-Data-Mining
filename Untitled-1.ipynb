{
 "cells": [
  {
   "cell_type": "code",
   "execution_count": null,
   "metadata": {},
   "outputs": [],
   "source": [
    "import os\n",
    "from sklearn.model_selection import train_test_split\n",
    "\n",
    "# Load file paths and labels from /data/\n",
    "data_path = \"/data\"\n",
    "emotions = os.listdir(data_path)  # Assume subfolder names are emotion labels (e.g., \"happy\", \"sad\")\n",
    "file_paths, labels = [], []\n",
    "\n",
    "for emotion in emotions:\n",
    "    emotion_dir = os.path.join(data_path, emotion)\n",
    "    for file in os.listdir(emotion_dir):\n",
    "        if file.endswith(\".wav\"):  # Adjust extension if needed\n",
    "            file_paths.append(os.path.join(emotion_dir, file))\n",
    "            labels.append(emotion)\n",
    "\n",
    "# Stratified split (80% train, 20% test)\n",
    "X_train_files, X_test_files, y_train, y_test = train_test_split(\n",
    "    file_paths, labels, test_size=0.2, stratify=labels, random_state=42\n",
    ")"
   ]
  },
  {
   "cell_type": "code",
   "execution_count": null,
   "metadata": {},
   "outputs": [],
   "source": [
    "import librosa\n",
    "import numpy as np\n",
    "import pandas as pd\n",
    "\n",
    "def extract_features(file_path):\n",
    "    y, sr = librosa.load(file_path)\n",
    "    \n",
    "    # MFCC Features (mean, var, delta, delta-delta)\n",
    "    mfcc = librosa.feature.mfcc(y=y, sr=sr, n_mfcc=13)\n",
    "    mfcc_mean = np.mean(mfcc, axis=1)\n",
    "    mfcc_var = np.var(mfcc, axis=1)\n",
    "    delta = librosa.feature.delta(mfcc)\n",
    "    delta_mean = np.mean(delta, axis=1)\n",
    "    delta_delta = librosa.feature.delta(mfcc, order=2)\n",
    "    delta_delta_mean = np.mean(delta_delta, axis=1)\n",
    "    \n",
    "    # Prosodic Features (pitch and intensity)\n",
    "    f0 = librosa.yin(y, fmin=20, fmax=8000, sr=sr)\n",
    "    pitch_mean, pitch_var = np.mean(f0), np.var(f0)\n",
    "    rms = librosa.feature.rms(y=y)\n",
    "    intensity_mean, intensity_var = np.mean(rms), np.var(rms)\n",
    "    \n",
    "    # Chroma Features\n",
    "    chroma = librosa.feature.chroma_stft(y=y, sr=sr)\n",
    "    chroma_mean = np.mean(chroma, axis=1)\n",
    "    chroma_var = np.var(chroma, axis=1)\n",
    "    \n",
    "    # Combine all features\n",
    "    features = np.concatenate([\n",
    "        mfcc_mean, mfcc_var, delta_mean, delta_delta_mean,\n",
    "        [pitch_mean, pitch_var, intensity_mean, intensity_var],\n",
    "        chroma_mean, chroma_var\n",
    "    ])\n",
    "    return features\n",
    "\n",
    "# Example usage for all files in the training folder:\n",
    "features_list = []\n",
    "for file in training_files:\n",
    "    features = extract_features(file)\n",
    "    features_list.append(features)\n",
    "\n",
    "df = pd.DataFrame(features_list)\n",
    "df.to_csv(\"extracted_features.csv\", index=False)"
   ]
  },
  {
   "cell_type": "code",
   "execution_count": null,
   "metadata": {},
   "outputs": [],
   "source": [
    "import seaborn as sns\n",
    "import matplotlib.pyplot as plt\n",
    "\n",
    "# Correlation with labels (assuming labels are numeric)\n",
    "corr_matrix = df.corrwith(y_train).abs().sort_values(ascending=False)\n",
    "plt.figure(figsize=(10, 6))\n",
    "sns.barplot(x=corr_matrix.index, y=corr_matrix.values)\n",
    "plt.title(\"Feature Correlation with Emotion Labels\")\n",
    "\n",
    "# Variance analysis per emotion\n",
    "plt.figure(figsize=(12, 6))\n",
    "sns.boxplot(x=\"emotion\", y=\"mfcc_mean_0\", data=df_with_labels)\n",
    "plt.title(\"MFCC Mean Distribution by Emotion\")"
   ]
  },
  {
   "cell_type": "code",
   "execution_count": null,
   "metadata": {},
   "outputs": [],
   "source": [
    "from sklearn.decomposition import PCA\n",
    "\n",
    "pca = PCA(n_components=0.95)  # Retain 95% variance\n",
    "X_train_pca = pca.fit_transform(X_train)\n",
    "X_test_pca = pca.transform(X_test)\n",
    "\n",
    "# Plot first two components\n",
    "sns.scatterplot(x=X_train_pca[:, 0], y=X_train_pca[:, 1], hue=y_train)\n",
    "plt.title(\"PCA Projection of Features\")"
   ]
  },
  {
   "cell_type": "code",
   "execution_count": null,
   "metadata": {},
   "outputs": [],
   "source": [
    "from sklearn.cluster import KMeans\n",
    "\n",
    "kmeans = KMeans(n_clusters=n_emotions, random_state=42)\n",
    "clusters = kmeans.fit_predict(X_train_pca)\n",
    "\n",
    "# Evaluate ARI\n",
    "from sklearn.metrics import adjusted_rand_score\n",
    "ari_kmeans = adjusted_rand_score(y_train, clusters)\n",
    "print(f\"ARI for K-Means: {ari_kmeans:.2f}\")\n",
    "\n",
    "# Majority voting for cluster labels\n",
    "from collections import Counter\n",
    "\n",
    "cluster_to_label = {}\n",
    "for cluster in range(n_emotions):\n",
    "    labels = y_train[clusters == cluster]\n",
    "    cluster_to_label[cluster] = Counter(labels).most_common(1)[0][0]"
   ]
  },
  {
   "cell_type": "code",
   "execution_count": null,
   "metadata": {},
   "outputs": [],
   "source": [
    "# Simplified DBSCAN implementation (full code requires neighbor functions)\n",
    "def dbscan(X, eps, min_samples):\n",
    "    # Core logic here\n",
    "    return labels\n",
    "\n",
    "dbscan_labels = dbscan(X_train_pca, eps=0.5, min_samples=5)\n",
    "n_clusters = len(set(dbscan_labels)) - (1 if -1 in dbscan_labels else 0)\n",
    "print(f\"DBSCAN found {n_clusters} clusters\")"
   ]
  },
  {
   "cell_type": "code",
   "execution_count": null,
   "metadata": {},
   "outputs": [],
   "source": [
    "# Predict test clusters using K-Means\n",
    "test_clusters = kmeans.predict(X_test_pca)\n",
    "predicted_labels = [cluster_to_label[c] for c in test_clusters]\n",
    "\n",
    "# Calculate accuracy\n",
    "accuracy = np.mean(predicted_labels == y_test)\n",
    "print(f\"Test Accuracy: {accuracy:.2f}\")"
   ]
  }
 ],
 "metadata": {
  "kernelspec": {
   "display_name": "Python 3",
   "language": "python",
   "name": "python3"
  },
  "language_info": {
   "codemirror_mode": {
    "name": "ipython",
    "version": 3
   },
   "file_extension": ".py",
   "mimetype": "text/x-python",
   "name": "python",
   "nbconvert_exporter": "python",
   "pygments_lexer": "ipython3",
   "version": "3.10.11"
  }
 },
 "nbformat": 4,
 "nbformat_minor": 2
}
